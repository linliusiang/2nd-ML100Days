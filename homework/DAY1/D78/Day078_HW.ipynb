{
 "cells": [
  {
   "cell_type": "markdown",
   "metadata": {},
   "source": [
    "## Work\n",
    "1. 請嘗試將 preproc_x 替換成以每筆資料的 min/max 進行標準化至 -1 ~ 1 間，再進行訓練\n",
    "2. 請嘗試將 mlp 疊更深 (e.g 5~10 層)，進行訓練後觀察 learning curve 的走勢\n",
    "3. (optional) 請改用 GPU 進行訓練 (如果你有 GPU 的話)，比較使用 CPU 與 GPU 的訓練速度"
   ]
  },
  {
   "cell_type": "code",
   "execution_count": 1,
   "metadata": {},
   "outputs": [
    {
     "name": "stdout",
     "output_type": "stream",
     "text": [
      "Fri Jan 31 18:02:33 2020       \r\n",
      "+-----------------------------------------------------------------------------+\r\n",
      "| NVIDIA-SMI 410.78       Driver Version: 410.78       CUDA Version: 10.0     |\r\n",
      "|-------------------------------+----------------------+----------------------+\r\n",
      "| GPU  Name        Persistence-M| Bus-Id        Disp.A | Volatile Uncorr. ECC |\r\n",
      "| Fan  Temp  Perf  Pwr:Usage/Cap|         Memory-Usage | GPU-Util  Compute M. |\r\n",
      "|===============================+======================+======================|\r\n",
      "|   0  GeForce RTX 208...  Off  | 00000000:01:00.0  On |                  N/A |\r\n",
      "|  0%   36C    P8    32W / 300W |    981MiB / 10989MiB |      3%      Default |\r\n",
      "+-------------------------------+----------------------+----------------------+\r\n",
      "                                                                               \r\n",
      "+-----------------------------------------------------------------------------+\r\n",
      "| Processes:                                                       GPU Memory |\r\n",
      "|  GPU       PID   Type   Process name                             Usage      |\r\n",
      "|=============================================================================|\r\n",
      "|    0       913      G   /usr/lib/xorg/Xorg                           221MiB |\r\n",
      "|    0      1815      G   compiz                                       124MiB |\r\n",
      "|    0      2738      C   /usr/bin/python3                             191MiB |\r\n",
      "|    0     10992      G   ...quest-channel-token=2054995251099528420    58MiB |\r\n",
      "|    0     12625      C   /usr/bin/python3                             191MiB |\r\n",
      "|    0     30048      C   /usr/bin/python3                             191MiB |\r\n",
      "+-----------------------------------------------------------------------------+\r\n"
     ]
    }
   ],
   "source": [
    "## \n",
    "\"\"\"\n",
    "Your code here (optional)\n",
    "確認硬體資源\n",
    "\"\"\"\n",
    "!nvidia-smi"
   ]
  },
  {
   "cell_type": "code",
   "execution_count": 2,
   "metadata": {},
   "outputs": [
    {
     "name": "stderr",
     "output_type": "stream",
     "text": [
      "Using TensorFlow backend.\n"
     ]
    }
   ],
   "source": [
    "import os\n",
    "import keras\n",
    "\n",
    "# 請嘗試設定 GPU：os.environ\n",
    "# 本範例不需使用 GPU, 將 GPU 設定為 \"無\"\n",
    "os.environ[\"CUDA_VISIBLE_DEVICES\"] = \"0\""
   ]
  },
  {
   "cell_type": "code",
   "execution_count": 3,
   "metadata": {},
   "outputs": [],
   "source": [
    "train, test = keras.datasets.cifar10.load_data()"
   ]
  },
  {
   "cell_type": "code",
   "execution_count": 9,
   "metadata": {},
   "outputs": [],
   "source": [
    "## 資料前處理\n",
    "\"\"\"\n",
    "Your code here\n",
    "\"\"\"\n",
    "from sklearn import preprocessing\n",
    "def preproc_x(x, flatten=True):\n",
    "    #x = x / 255.\n",
    "    if flatten:\n",
    "        x = x.reshape((len(x), -1))\n",
    "        min_max_scaler = preprocessing.MinMaxScaler()\n",
    "        x = min_max_scaler.fit_transform(x)\n",
    "    return x\n",
    "\n",
    "def preproc_y(y, num_classes=10):\n",
    "    if y.shape[-1] == 1:\n",
    "        y = keras.utils.to_categorical(y, num_classes)\n",
    "    return y  "
   ]
  },
  {
   "cell_type": "code",
   "execution_count": 10,
   "metadata": {},
   "outputs": [],
   "source": [
    "x_train, y_train = train\n",
    "x_test, y_test = test\n",
    "\n",
    "# Preproc the inputs\n",
    "x_train = preproc_x(x_train)\n",
    "x_test = preproc_x(x_test)\n",
    "\n",
    "# Preprc the outputs\n",
    "y_train = preproc_y(y_train)\n",
    "y_test = preproc_y(y_test)"
   ]
  },
  {
   "cell_type": "code",
   "execution_count": 11,
   "metadata": {},
   "outputs": [
    {
     "name": "stdout",
     "output_type": "stream",
     "text": [
      "Model: \"model_1\"\n",
      "_________________________________________________________________\n",
      "Layer (type)                 Output Shape              Param #   \n",
      "=================================================================\n",
      "input_1 (InputLayer)         (None, 3072)              0         \n",
      "_________________________________________________________________\n",
      "hidden_layer1 (Dense)        (None, 512)               1573376   \n",
      "_________________________________________________________________\n",
      "hidden_layer2 (Dense)        (None, 256)               131328    \n",
      "_________________________________________________________________\n",
      "hidden_layer3 (Dense)        (None, 128)               32896     \n",
      "_________________________________________________________________\n",
      "hidden_layer4 (Dense)        (None, 64)                8256      \n",
      "_________________________________________________________________\n",
      "hidden_layer5 (Dense)        (None, 32)                2080      \n",
      "_________________________________________________________________\n",
      "output (Dense)               (None, 10)                330       \n",
      "=================================================================\n",
      "Total params: 1,748,266\n",
      "Trainable params: 1,748,266\n",
      "Non-trainable params: 0\n",
      "_________________________________________________________________\n"
     ]
    }
   ],
   "source": [
    "\"\"\"Code Here\n",
    "建立你的神經網路\n",
    "\"\"\"\n",
    "def build_mlp(input_shape, output_units=10, num_neurons=[512, 256, 128, 64, 32]):\n",
    "    input_layer = keras.layers.Input(input_shape)\n",
    "    \n",
    "    for i, n_units in enumerate(num_neurons):\n",
    "        if i == 0:\n",
    "            x = keras.layers.Dense(units=n_units, activation=\"relu\", name=\"hidden_layer\"+str(i+1))(input_layer)\n",
    "        else:\n",
    "            x = keras.layers.Dense(units=n_units, activation=\"relu\", name=\"hidden_layer\"+str(i+1))(x)\n",
    "    \n",
    "    out = keras.layers.Dense(units=output_units, activation=\"softmax\", name=\"output\")(x)\n",
    "    \n",
    "    model = keras.models.Model(inputs=[input_layer], outputs=[out])\n",
    "    return model\n",
    "  \n",
    "model = build_mlp(input_shape=x_train.shape[1:])\n",
    "model.summary()"
   ]
  },
  {
   "cell_type": "code",
   "execution_count": 12,
   "metadata": {},
   "outputs": [],
   "source": [
    "## 超參數設定\n",
    "LEARNING_RATE = 0.001\n",
    "EPOCHS = 100\n",
    "BATCH_SIZE = 256"
   ]
  },
  {
   "cell_type": "code",
   "execution_count": 13,
   "metadata": {},
   "outputs": [],
   "source": [
    "optimizer = keras.optimizers.Adam(lr=LEARNING_RATE)\n",
    "model.compile(loss=\"categorical_crossentropy\", metrics=[\"binary_accuracy\"], optimizer=optimizer)"
   ]
  },
  {
   "cell_type": "code",
   "execution_count": 14,
   "metadata": {},
   "outputs": [
    {
     "name": "stdout",
     "output_type": "stream",
     "text": [
      "Train on 50000 samples, validate on 10000 samples\n",
      "Epoch 1/100\n",
      "50000/50000 [==============================] - 3s 58us/step - loss: 1.9675 - binary_accuracy: 0.9009 - val_loss: 1.8882 - val_binary_accuracy: 0.9023\n",
      "Epoch 2/100\n",
      "50000/50000 [==============================] - 3s 57us/step - loss: 1.7534 - binary_accuracy: 0.9043 - val_loss: 1.6940 - val_binary_accuracy: 0.9059\n",
      "Epoch 3/100\n",
      "50000/50000 [==============================] - 3s 58us/step - loss: 1.6499 - binary_accuracy: 0.9070 - val_loss: 1.6036 - val_binary_accuracy: 0.9092\n",
      "Epoch 4/100\n",
      "50000/50000 [==============================] - 3s 55us/step - loss: 1.5897 - binary_accuracy: 0.9091 - val_loss: 1.5868 - val_binary_accuracy: 0.9101\n",
      "Epoch 5/100\n",
      "50000/50000 [==============================] - 3s 55us/step - loss: 1.5373 - binary_accuracy: 0.9112 - val_loss: 1.5281 - val_binary_accuracy: 0.9116\n",
      "Epoch 6/100\n",
      "50000/50000 [==============================] - 3s 56us/step - loss: 1.4995 - binary_accuracy: 0.9125 - val_loss: 1.5305 - val_binary_accuracy: 0.9109\n",
      "Epoch 7/100\n",
      "50000/50000 [==============================] - 3s 56us/step - loss: 1.4611 - binary_accuracy: 0.9141 - val_loss: 1.5046 - val_binary_accuracy: 0.9116\n",
      "Epoch 8/100\n",
      "50000/50000 [==============================] - 3s 56us/step - loss: 1.4342 - binary_accuracy: 0.9151 - val_loss: 1.5475 - val_binary_accuracy: 0.9096\n",
      "Epoch 9/100\n",
      "50000/50000 [==============================] - 3s 57us/step - loss: 1.4074 - binary_accuracy: 0.9160 - val_loss: 1.4873 - val_binary_accuracy: 0.9124\n",
      "Epoch 10/100\n",
      "50000/50000 [==============================] - 3s 57us/step - loss: 1.3718 - binary_accuracy: 0.9179 - val_loss: 1.4123 - val_binary_accuracy: 0.9168\n",
      "Epoch 11/100\n",
      "50000/50000 [==============================] - 3s 57us/step - loss: 1.3423 - binary_accuracy: 0.9190 - val_loss: 1.4223 - val_binary_accuracy: 0.9164\n",
      "Epoch 12/100\n",
      "50000/50000 [==============================] - 3s 57us/step - loss: 1.3304 - binary_accuracy: 0.9196 - val_loss: 1.4054 - val_binary_accuracy: 0.9168\n",
      "Epoch 13/100\n",
      "50000/50000 [==============================] - 3s 57us/step - loss: 1.3029 - binary_accuracy: 0.9210 - val_loss: 1.3947 - val_binary_accuracy: 0.9177\n",
      "Epoch 14/100\n",
      "50000/50000 [==============================] - 3s 57us/step - loss: 1.2902 - binary_accuracy: 0.9212 - val_loss: 1.4363 - val_binary_accuracy: 0.9157\n",
      "Epoch 15/100\n",
      "50000/50000 [==============================] - 3s 57us/step - loss: 1.2615 - binary_accuracy: 0.9226 - val_loss: 1.4434 - val_binary_accuracy: 0.9143\n",
      "Epoch 16/100\n",
      "50000/50000 [==============================] - 3s 57us/step - loss: 1.2361 - binary_accuracy: 0.9241 - val_loss: 1.4220 - val_binary_accuracy: 0.9157\n",
      "Epoch 17/100\n",
      "50000/50000 [==============================] - 3s 57us/step - loss: 1.2096 - binary_accuracy: 0.9254 - val_loss: 1.4344 - val_binary_accuracy: 0.9159\n",
      "Epoch 18/100\n",
      "50000/50000 [==============================] - 3s 57us/step - loss: 1.2020 - binary_accuracy: 0.9257 - val_loss: 1.3694 - val_binary_accuracy: 0.9186\n",
      "Epoch 19/100\n",
      "50000/50000 [==============================] - 3s 57us/step - loss: 1.1796 - binary_accuracy: 0.9268 - val_loss: 1.3617 - val_binary_accuracy: 0.9187\n",
      "Epoch 20/100\n",
      "50000/50000 [==============================] - 3s 57us/step - loss: 1.1550 - binary_accuracy: 0.9282 - val_loss: 1.3904 - val_binary_accuracy: 0.9177\n",
      "Epoch 21/100\n",
      "50000/50000 [==============================] - 3s 57us/step - loss: 1.1267 - binary_accuracy: 0.9293 - val_loss: 1.3603 - val_binary_accuracy: 0.9191\n",
      "Epoch 22/100\n",
      "50000/50000 [==============================] - 3s 57us/step - loss: 1.1089 - binary_accuracy: 0.9303 - val_loss: 1.3979 - val_binary_accuracy: 0.9171\n",
      "Epoch 23/100\n",
      "50000/50000 [==============================] - 3s 57us/step - loss: 1.1085 - binary_accuracy: 0.9302 - val_loss: 1.4140 - val_binary_accuracy: 0.9178\n",
      "Epoch 24/100\n",
      "50000/50000 [==============================] - 3s 57us/step - loss: 1.0815 - binary_accuracy: 0.9316 - val_loss: 1.3688 - val_binary_accuracy: 0.9193\n",
      "Epoch 25/100\n",
      "50000/50000 [==============================] - 3s 57us/step - loss: 1.0561 - binary_accuracy: 0.9329 - val_loss: 1.4293 - val_binary_accuracy: 0.9173\n",
      "Epoch 26/100\n",
      "50000/50000 [==============================] - 3s 57us/step - loss: 1.0533 - binary_accuracy: 0.9333 - val_loss: 1.3794 - val_binary_accuracy: 0.9183\n",
      "Epoch 27/100\n",
      "50000/50000 [==============================] - 3s 57us/step - loss: 1.0282 - binary_accuracy: 0.9347 - val_loss: 1.4111 - val_binary_accuracy: 0.9175\n",
      "Epoch 28/100\n",
      "50000/50000 [==============================] - 3s 56us/step - loss: 1.0161 - binary_accuracy: 0.9351 - val_loss: 1.4081 - val_binary_accuracy: 0.9182\n",
      "Epoch 29/100\n",
      "50000/50000 [==============================] - 3s 57us/step - loss: 0.9926 - binary_accuracy: 0.9365 - val_loss: 1.4149 - val_binary_accuracy: 0.9181\n",
      "Epoch 30/100\n",
      "50000/50000 [==============================] - 3s 57us/step - loss: 0.9707 - binary_accuracy: 0.9374 - val_loss: 1.4172 - val_binary_accuracy: 0.9179\n",
      "Epoch 31/100\n",
      "50000/50000 [==============================] - 3s 57us/step - loss: 0.9498 - binary_accuracy: 0.9390 - val_loss: 1.4653 - val_binary_accuracy: 0.9163\n",
      "Epoch 32/100\n",
      "50000/50000 [==============================] - 3s 57us/step - loss: 0.9421 - binary_accuracy: 0.9394 - val_loss: 1.4658 - val_binary_accuracy: 0.9163\n",
      "Epoch 33/100\n",
      "50000/50000 [==============================] - 3s 57us/step - loss: 0.9210 - binary_accuracy: 0.9404 - val_loss: 1.4443 - val_binary_accuracy: 0.9182\n",
      "Epoch 34/100\n",
      "50000/50000 [==============================] - 3s 57us/step - loss: 0.9072 - binary_accuracy: 0.9412 - val_loss: 1.4993 - val_binary_accuracy: 0.9165\n",
      "Epoch 35/100\n",
      "50000/50000 [==============================] - 3s 57us/step - loss: 0.8870 - binary_accuracy: 0.9427 - val_loss: 1.4884 - val_binary_accuracy: 0.9176\n",
      "Epoch 36/100\n",
      "50000/50000 [==============================] - 3s 60us/step - loss: 0.8713 - binary_accuracy: 0.9434 - val_loss: 1.4726 - val_binary_accuracy: 0.9173\n",
      "Epoch 37/100\n",
      "50000/50000 [==============================] - 3s 58us/step - loss: 0.8541 - binary_accuracy: 0.9440 - val_loss: 1.5344 - val_binary_accuracy: 0.9155\n",
      "Epoch 38/100\n",
      "50000/50000 [==============================] - 3s 57us/step - loss: 0.8585 - binary_accuracy: 0.9440 - val_loss: 1.5238 - val_binary_accuracy: 0.9167\n",
      "Epoch 39/100\n",
      "50000/50000 [==============================] - 3s 59us/step - loss: 0.8291 - binary_accuracy: 0.9455 - val_loss: 1.5197 - val_binary_accuracy: 0.9165\n",
      "Epoch 40/100\n",
      "50000/50000 [==============================] - 3s 56us/step - loss: 0.8122 - binary_accuracy: 0.9468 - val_loss: 1.5347 - val_binary_accuracy: 0.9164\n",
      "Epoch 41/100\n",
      "50000/50000 [==============================] - 3s 56us/step - loss: 0.7953 - binary_accuracy: 0.9477 - val_loss: 1.5796 - val_binary_accuracy: 0.9153\n",
      "Epoch 42/100\n",
      "50000/50000 [==============================] - 3s 56us/step - loss: 0.7861 - binary_accuracy: 0.9485 - val_loss: 1.6198 - val_binary_accuracy: 0.9146\n",
      "Epoch 43/100\n",
      "50000/50000 [==============================] - 3s 55us/step - loss: 0.7741 - binary_accuracy: 0.9493 - val_loss: 1.6094 - val_binary_accuracy: 0.9148\n",
      "Epoch 44/100\n",
      "50000/50000 [==============================] - 3s 56us/step - loss: 0.7600 - binary_accuracy: 0.9497 - val_loss: 1.6259 - val_binary_accuracy: 0.9150\n",
      "Epoch 45/100\n",
      "50000/50000 [==============================] - 3s 56us/step - loss: 0.7318 - binary_accuracy: 0.9513 - val_loss: 1.6210 - val_binary_accuracy: 0.9153\n",
      "Epoch 46/100\n",
      "50000/50000 [==============================] - 3s 56us/step - loss: 0.7330 - binary_accuracy: 0.9515 - val_loss: 1.6975 - val_binary_accuracy: 0.9141\n",
      "Epoch 47/100\n",
      "50000/50000 [==============================] - 3s 56us/step - loss: 0.7186 - binary_accuracy: 0.9524 - val_loss: 1.6928 - val_binary_accuracy: 0.9134\n",
      "Epoch 48/100\n",
      "50000/50000 [==============================] - 3s 55us/step - loss: 0.6933 - binary_accuracy: 0.9539 - val_loss: 1.7361 - val_binary_accuracy: 0.9133\n",
      "Epoch 49/100\n",
      "50000/50000 [==============================] - 3s 56us/step - loss: 0.6901 - binary_accuracy: 0.9543 - val_loss: 1.7508 - val_binary_accuracy: 0.9125\n",
      "Epoch 50/100\n",
      "50000/50000 [==============================] - 3s 56us/step - loss: 0.6735 - binary_accuracy: 0.9552 - val_loss: 1.8029 - val_binary_accuracy: 0.9119\n",
      "Epoch 51/100\n"
     ]
    },
    {
     "name": "stdout",
     "output_type": "stream",
     "text": [
      "50000/50000 [==============================] - 3s 55us/step - loss: 0.6594 - binary_accuracy: 0.9561 - val_loss: 1.8048 - val_binary_accuracy: 0.9130\n",
      "Epoch 52/100\n",
      "50000/50000 [==============================] - 3s 55us/step - loss: 0.6446 - binary_accuracy: 0.9572 - val_loss: 1.8291 - val_binary_accuracy: 0.9125\n",
      "Epoch 53/100\n",
      "50000/50000 [==============================] - 3s 56us/step - loss: 0.6376 - binary_accuracy: 0.9574 - val_loss: 1.8917 - val_binary_accuracy: 0.9111\n",
      "Epoch 54/100\n",
      "50000/50000 [==============================] - 3s 55us/step - loss: 0.6252 - binary_accuracy: 0.9581 - val_loss: 1.8091 - val_binary_accuracy: 0.9129\n",
      "Epoch 55/100\n",
      "50000/50000 [==============================] - 3s 55us/step - loss: 0.6310 - binary_accuracy: 0.9577 - val_loss: 1.8350 - val_binary_accuracy: 0.9122\n",
      "Epoch 56/100\n",
      "50000/50000 [==============================] - 3s 55us/step - loss: 0.6122 - binary_accuracy: 0.9588 - val_loss: 1.8966 - val_binary_accuracy: 0.9099\n",
      "Epoch 57/100\n",
      "50000/50000 [==============================] - 3s 55us/step - loss: 0.5855 - binary_accuracy: 0.9609 - val_loss: 1.9573 - val_binary_accuracy: 0.9115\n",
      "Epoch 58/100\n",
      "50000/50000 [==============================] - 3s 55us/step - loss: 0.5895 - binary_accuracy: 0.9601 - val_loss: 1.9904 - val_binary_accuracy: 0.9097\n",
      "Epoch 59/100\n",
      "50000/50000 [==============================] - 3s 55us/step - loss: 0.5667 - binary_accuracy: 0.9617 - val_loss: 2.0445 - val_binary_accuracy: 0.9104\n",
      "Epoch 60/100\n",
      "50000/50000 [==============================] - 3s 55us/step - loss: 0.5687 - binary_accuracy: 0.9618 - val_loss: 2.0001 - val_binary_accuracy: 0.9119\n",
      "Epoch 61/100\n",
      "50000/50000 [==============================] - 3s 55us/step - loss: 0.5483 - binary_accuracy: 0.9629 - val_loss: 2.1221 - val_binary_accuracy: 0.9101\n",
      "Epoch 62/100\n",
      "50000/50000 [==============================] - 3s 55us/step - loss: 0.5587 - binary_accuracy: 0.9622 - val_loss: 2.0589 - val_binary_accuracy: 0.9114\n",
      "Epoch 63/100\n",
      "50000/50000 [==============================] - 3s 55us/step - loss: 0.5369 - binary_accuracy: 0.9639 - val_loss: 2.0976 - val_binary_accuracy: 0.9105\n",
      "Epoch 64/100\n",
      "50000/50000 [==============================] - 3s 55us/step - loss: 0.5349 - binary_accuracy: 0.9637 - val_loss: 2.0953 - val_binary_accuracy: 0.9095\n",
      "Epoch 65/100\n",
      "50000/50000 [==============================] - 3s 55us/step - loss: 0.5277 - binary_accuracy: 0.9641 - val_loss: 2.1679 - val_binary_accuracy: 0.9089\n",
      "Epoch 66/100\n",
      "50000/50000 [==============================] - 3s 55us/step - loss: 0.5120 - binary_accuracy: 0.9649 - val_loss: 2.1498 - val_binary_accuracy: 0.9098\n",
      "Epoch 67/100\n",
      "50000/50000 [==============================] - 3s 56us/step - loss: 0.5047 - binary_accuracy: 0.9657 - val_loss: 2.2514 - val_binary_accuracy: 0.9091\n",
      "Epoch 68/100\n",
      "50000/50000 [==============================] - 3s 55us/step - loss: 0.4958 - binary_accuracy: 0.9663 - val_loss: 2.2579 - val_binary_accuracy: 0.9091\n",
      "Epoch 69/100\n",
      "50000/50000 [==============================] - 3s 55us/step - loss: 0.4691 - binary_accuracy: 0.9680 - val_loss: 2.3161 - val_binary_accuracy: 0.9092\n",
      "Epoch 70/100\n",
      "50000/50000 [==============================] - 3s 55us/step - loss: 0.4643 - binary_accuracy: 0.9686 - val_loss: 2.2721 - val_binary_accuracy: 0.9086\n",
      "Epoch 71/100\n",
      "50000/50000 [==============================] - 3s 55us/step - loss: 0.4610 - binary_accuracy: 0.9686 - val_loss: 2.3108 - val_binary_accuracy: 0.9077\n",
      "Epoch 72/100\n",
      "50000/50000 [==============================] - 3s 55us/step - loss: 0.4599 - binary_accuracy: 0.9687 - val_loss: 2.4166 - val_binary_accuracy: 0.9080\n",
      "Epoch 73/100\n",
      "50000/50000 [==============================] - 3s 55us/step - loss: 0.4695 - binary_accuracy: 0.9678 - val_loss: 2.3372 - val_binary_accuracy: 0.9079\n",
      "Epoch 74/100\n",
      "50000/50000 [==============================] - 3s 56us/step - loss: 0.4602 - binary_accuracy: 0.9686 - val_loss: 2.3916 - val_binary_accuracy: 0.9087\n",
      "Epoch 75/100\n",
      "50000/50000 [==============================] - 3s 62us/step - loss: 0.4262 - binary_accuracy: 0.9706 - val_loss: 2.5128 - val_binary_accuracy: 0.9073\n",
      "Epoch 76/100\n",
      "50000/50000 [==============================] - 3s 60us/step - loss: 0.4378 - binary_accuracy: 0.9699 - val_loss: 2.5079 - val_binary_accuracy: 0.9069\n",
      "Epoch 77/100\n",
      "50000/50000 [==============================] - 3s 58us/step - loss: 0.4424 - binary_accuracy: 0.9698 - val_loss: 2.4387 - val_binary_accuracy: 0.9090\n",
      "Epoch 78/100\n",
      "50000/50000 [==============================] - 3s 57us/step - loss: 0.4234 - binary_accuracy: 0.9708 - val_loss: 2.5685 - val_binary_accuracy: 0.9061\n",
      "Epoch 79/100\n",
      "50000/50000 [==============================] - 3s 57us/step - loss: 0.4037 - binary_accuracy: 0.9723 - val_loss: 2.5531 - val_binary_accuracy: 0.9063\n",
      "Epoch 80/100\n",
      "50000/50000 [==============================] - 3s 57us/step - loss: 0.4124 - binary_accuracy: 0.9716 - val_loss: 2.4944 - val_binary_accuracy: 0.9068\n",
      "Epoch 81/100\n",
      "50000/50000 [==============================] - 3s 57us/step - loss: 0.4099 - binary_accuracy: 0.9718 - val_loss: 2.5897 - val_binary_accuracy: 0.9071\n",
      "Epoch 82/100\n",
      "50000/50000 [==============================] - 3s 57us/step - loss: 0.4018 - binary_accuracy: 0.9723 - val_loss: 2.7060 - val_binary_accuracy: 0.9059\n",
      "Epoch 83/100\n",
      "50000/50000 [==============================] - 3s 58us/step - loss: 0.3995 - binary_accuracy: 0.9724 - val_loss: 2.6635 - val_binary_accuracy: 0.9065\n",
      "Epoch 84/100\n",
      "50000/50000 [==============================] - 3s 58us/step - loss: 0.3908 - binary_accuracy: 0.9731 - val_loss: 2.6850 - val_binary_accuracy: 0.9067\n",
      "Epoch 85/100\n",
      "50000/50000 [==============================] - 3s 57us/step - loss: 0.3787 - binary_accuracy: 0.9740 - val_loss: 2.7493 - val_binary_accuracy: 0.9062\n",
      "Epoch 86/100\n",
      "50000/50000 [==============================] - 3s 57us/step - loss: 0.4129 - binary_accuracy: 0.9715 - val_loss: 2.6852 - val_binary_accuracy: 0.9051\n",
      "Epoch 87/100\n",
      "50000/50000 [==============================] - 3s 57us/step - loss: 0.3865 - binary_accuracy: 0.9735 - val_loss: 2.6943 - val_binary_accuracy: 0.9073\n",
      "Epoch 88/100\n",
      "50000/50000 [==============================] - 3s 57us/step - loss: 0.3491 - binary_accuracy: 0.9760 - val_loss: 2.7631 - val_binary_accuracy: 0.9055\n",
      "Epoch 89/100\n",
      "50000/50000 [==============================] - 3s 57us/step - loss: 0.3900 - binary_accuracy: 0.9732 - val_loss: 2.8339 - val_binary_accuracy: 0.9066\n",
      "Epoch 90/100\n",
      "50000/50000 [==============================] - 3s 57us/step - loss: 0.3675 - binary_accuracy: 0.9746 - val_loss: 2.7113 - val_binary_accuracy: 0.9068\n",
      "Epoch 91/100\n",
      "50000/50000 [==============================] - 3s 57us/step - loss: 0.3361 - binary_accuracy: 0.9766 - val_loss: 2.8943 - val_binary_accuracy: 0.9065\n",
      "Epoch 92/100\n",
      "50000/50000 [==============================] - 3s 57us/step - loss: 0.3536 - binary_accuracy: 0.9758 - val_loss: 2.9043 - val_binary_accuracy: 0.9058\n",
      "Epoch 93/100\n",
      "50000/50000 [==============================] - 3s 57us/step - loss: 0.3563 - binary_accuracy: 0.9753 - val_loss: 2.9288 - val_binary_accuracy: 0.9062\n",
      "Epoch 94/100\n",
      "50000/50000 [==============================] - 3s 60us/step - loss: 0.3651 - binary_accuracy: 0.9746 - val_loss: 2.8677 - val_binary_accuracy: 0.9063\n",
      "Epoch 95/100\n",
      "50000/50000 [==============================] - 3s 58us/step - loss: 0.3319 - binary_accuracy: 0.9770 - val_loss: 2.9203 - val_binary_accuracy: 0.9069\n",
      "Epoch 96/100\n",
      "50000/50000 [==============================] - 3s 58us/step - loss: 0.3173 - binary_accuracy: 0.9780 - val_loss: 2.9646 - val_binary_accuracy: 0.9062\n",
      "Epoch 97/100\n",
      "50000/50000 [==============================] - 3s 57us/step - loss: 0.3213 - binary_accuracy: 0.9776 - val_loss: 3.1351 - val_binary_accuracy: 0.9042\n",
      "Epoch 98/100\n",
      "50000/50000 [==============================] - 3s 57us/step - loss: 0.3209 - binary_accuracy: 0.9774 - val_loss: 3.1149 - val_binary_accuracy: 0.9055\n",
      "Epoch 99/100\n",
      "50000/50000 [==============================] - 3s 58us/step - loss: 0.3766 - binary_accuracy: 0.9740 - val_loss: 2.9573 - val_binary_accuracy: 0.9052\n",
      "Epoch 100/100\n",
      "50000/50000 [==============================] - 3s 57us/step - loss: 0.3229 - binary_accuracy: 0.9774 - val_loss: 3.1172 - val_binary_accuracy: 0.9049\n"
     ]
    },
    {
     "data": {
      "text/plain": [
       "<keras.callbacks.callbacks.History at 0x7f54a045ef98>"
      ]
     },
     "execution_count": 14,
     "metadata": {},
     "output_type": "execute_result"
    }
   ],
   "source": [
    "model.fit(x_train, y_train, \n",
    "          epochs=EPOCHS, \n",
    "          batch_size=BATCH_SIZE, \n",
    "          validation_data=(x_test, y_test), \n",
    "          shuffle=True)"
   ]
  },
  {
   "cell_type": "code",
   "execution_count": 16,
   "metadata": {},
   "outputs": [
    {
     "data": {
      "image/png": "[encoded data removed]",
      "text/plain": [
       "<Figure size 432x288 with 1 Axes>"
      ]
     },
     "metadata": {
      "needs_background": "light"
     },
     "output_type": "display_data"
    },
    {
     "data": {
      "image/png": "[encoded data removed]",
      "text/plain": [
       "<Figure size 432x288 with 1 Axes>"
      ]
     },
     "metadata": {
      "needs_background": "light"
     },
     "output_type": "display_data"
    }
   ],
   "source": [
    "import matplotlib.pyplot as plt\n",
    "\n",
    "\n",
    "train_loss = model.history.history[\"loss\"]\n",
    "valid_loss = model.history.history[\"val_loss\"]\n",
    "\n",
    "train_acc = model.history.history[\"binary_accuracy\"]\n",
    "valid_acc = model.history.history[\"val_binary_accuracy\"]\n",
    "\n",
    "plt.plot(range(len(train_loss)), train_loss, label=\"train loss\")\n",
    "plt.plot(range(len(valid_loss)), valid_loss, label=\"valid loss\")\n",
    "plt.legend()\n",
    "plt.title(\"Loss\")\n",
    "plt.show()\n",
    "\n",
    "plt.plot(range(len(train_acc)), train_acc, label=\"train accuracy\")\n",
    "plt.plot(range(len(valid_acc)), valid_acc, label=\"valid accuracy\")\n",
    "plt.legend()\n",
    "plt.title(\"Accuracy\")\n",
    "plt.show()"
   ]
  },
  {
   "cell_type": "code",
   "execution_count": null,
   "metadata": {},
   "outputs": [],
   "source": []
  }
 ],
 "metadata": {
  "kernelspec": {
   "display_name": "Python 3",
   "language": "python",
   "name": "python3"
  },
  "language_info": {
   "codemirror_mode": {
    "name": "ipython",
    "version": 3
   },
   "file_extension": ".py",
   "mimetype": "text/x-python",
   "name": "python",
   "nbconvert_exporter": "python",
   "pygments_lexer": "ipython3",
   "version": "3.5.2"
  }
 },
 "nbformat": 4,
 "nbformat_minor": 2
}
