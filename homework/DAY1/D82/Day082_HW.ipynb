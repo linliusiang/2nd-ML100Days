{
 "cells": [
  {
   "cell_type": "markdown",
   "metadata": {},
   "source": [
    "## Work\n",
    "1. 請比較使用不同層數以及不同 Dropout rate 對訓練的效果\n",
    "2. 將 optimizer 改成使用 Adam 並加上適當的 dropout rate 檢視結果"
   ]
  },
  {
   "cell_type": "code",
   "execution_count": 5,
   "metadata": {},
   "outputs": [],
   "source": [
    "import os\n",
    "import keras\n",
    "import itertools\n",
    "# Disable GPU\n",
    "os.environ[\"CUDA_VISIBLE_DEVICES\"] = \"0\""
   ]
  },
  {
   "cell_type": "code",
   "execution_count": 6,
   "metadata": {},
   "outputs": [],
   "source": [
    "train, test = keras.datasets.cifar10.load_data()"
   ]
  },
  {
   "cell_type": "code",
   "execution_count": 7,
   "metadata": {},
   "outputs": [],
   "source": [
    "## 資料前處理\n",
    "def preproc_x(x, flatten=True):\n",
    "    x = x / 255.\n",
    "    if flatten:\n",
    "        x = x.reshape((len(x), -1))\n",
    "    return x\n",
    "\n",
    "def preproc_y(y, num_classes=10):\n",
    "    if y.shape[-1] == 1:\n",
    "        y = keras.utils.to_categorical(y, num_classes)\n",
    "    return y    "
   ]
  },
  {
   "cell_type": "code",
   "execution_count": 8,
   "metadata": {},
   "outputs": [],
   "source": [
    "x_train, y_train = train\n",
    "x_test, y_test = test\n",
    "\n",
    "# Preproc the inputs\n",
    "x_train = preproc_x(x_train)\n",
    "x_test = preproc_x(x_test)\n",
    "\n",
    "# Preprc the outputs\n",
    "y_train = preproc_y(y_train)\n",
    "y_test = preproc_y(y_test)"
   ]
  },
  {
   "cell_type": "code",
   "execution_count": 9,
   "metadata": {},
   "outputs": [],
   "source": [
    "from keras.layers import Dropout\n",
    "\n",
    "\"\"\"\n",
    "建立神經網路，並加入 dropout layer\n",
    "\"\"\"\n",
    "def build_mlp(input_shape, output_units=10, num_neurons=[512, 256, 128], drp_ratio=0.2):\n",
    "    input_layer = keras.layers.Input(input_shape)\n",
    "    \n",
    "    for i, n_units in enumerate(num_neurons):\n",
    "        if i == 0:\n",
    "            x = keras.layers.Dense(units=n_units, \n",
    "                                   activation=\"relu\", \n",
    "                                   name=\"hidden_layer\"+str(i+1))(input_layer)\n",
    "            x = Dropout(drp_ratio)(x)\n",
    "        else:\n",
    "            x = keras.layers.Dense(units=n_units, \n",
    "                                   activation=\"relu\", \n",
    "                                   name=\"hidden_layer\"+str(i+1))(x)\n",
    "            x = Dropout(drp_ratio)(x)\n",
    "    \n",
    "    out = keras.layers.Dense(units=output_units, activation=\"softmax\", name=\"output\")(x)\n",
    "    \n",
    "    model = keras.models.Model(inputs=[input_layer], outputs=[out])\n",
    "    return model"
   ]
  },
  {
   "cell_type": "code",
   "execution_count": 10,
   "metadata": {},
   "outputs": [],
   "source": [
    "\"\"\"Code Here\n",
    "設定超參數\n",
    "\"\"\"\n",
    "LEARNING_RATE = 0.001\n",
    "EPOCHS = 20\n",
    "BATCH_SIZE = 256\n",
    "MOMENTUM = 0.95\n",
    "Dropout_EXP = 0.2"
   ]
  },
  {
   "cell_type": "code",
   "execution_count": 11,
   "metadata": {
    "scrolled": true
   },
   "outputs": [
    {
     "name": "stdout",
     "output_type": "stream",
     "text": [
      "Model: \"model_1\"\n",
      "_________________________________________________________________\n",
      "Layer (type)                 Output Shape              Param #   \n",
      "=================================================================\n",
      "input_1 (InputLayer)         (None, 3072)              0         \n",
      "_________________________________________________________________\n",
      "hidden_layer1 (Dense)        (None, 512)               1573376   \n",
      "_________________________________________________________________\n",
      "dropout_1 (Dropout)          (None, 512)               0         \n",
      "_________________________________________________________________\n",
      "hidden_layer2 (Dense)        (None, 256)               131328    \n",
      "_________________________________________________________________\n",
      "dropout_2 (Dropout)          (None, 256)               0         \n",
      "_________________________________________________________________\n",
      "hidden_layer3 (Dense)        (None, 128)               32896     \n",
      "_________________________________________________________________\n",
      "dropout_3 (Dropout)          (None, 128)               0         \n",
      "_________________________________________________________________\n",
      "output (Dense)               (None, 10)                1290      \n",
      "=================================================================\n",
      "Total params: 1,738,890\n",
      "Trainable params: 1,738,890\n",
      "Non-trainable params: 0\n",
      "_________________________________________________________________\n",
      "Train on 50000 samples, validate on 10000 samples\n",
      "Epoch 1/20\n",
      "50000/50000 [==============================] - 3s 62us/step - loss: 2.0309 - accuracy: 0.2535 - val_loss: 1.8249 - val_accuracy: 0.3537\n",
      "Epoch 2/20\n",
      "50000/50000 [==============================] - 3s 57us/step - loss: 1.8487 - accuracy: 0.3315 - val_loss: 1.7206 - val_accuracy: 0.3816\n",
      "Epoch 3/20\n",
      "50000/50000 [==============================] - 3s 57us/step - loss: 1.7830 - accuracy: 0.3548 - val_loss: 1.6784 - val_accuracy: 0.3906\n",
      "Epoch 4/20\n",
      "50000/50000 [==============================] - 3s 57us/step - loss: 1.7438 - accuracy: 0.3730 - val_loss: 1.6421 - val_accuracy: 0.4160\n",
      "Epoch 5/20\n",
      "50000/50000 [==============================] - 3s 58us/step - loss: 1.7053 - accuracy: 0.3872 - val_loss: 1.6294 - val_accuracy: 0.4171\n",
      "Epoch 6/20\n",
      "50000/50000 [==============================] - 3s 58us/step - loss: 1.6889 - accuracy: 0.3938 - val_loss: 1.5728 - val_accuracy: 0.4393\n",
      "Epoch 7/20\n",
      "50000/50000 [==============================] - 3s 59us/step - loss: 1.6559 - accuracy: 0.4057 - val_loss: 1.6191 - val_accuracy: 0.4286\n",
      "Epoch 8/20\n",
      "50000/50000 [==============================] - 3s 59us/step - loss: 1.6383 - accuracy: 0.4107 - val_loss: 1.5533 - val_accuracy: 0.4482\n",
      "Epoch 9/20\n",
      "50000/50000 [==============================] - 3s 60us/step - loss: 1.6291 - accuracy: 0.4136 - val_loss: 1.5544 - val_accuracy: 0.4427\n",
      "Epoch 10/20\n",
      "50000/50000 [==============================] - 3s 59us/step - loss: 1.6047 - accuracy: 0.4249 - val_loss: 1.5253 - val_accuracy: 0.4528\n",
      "Epoch 11/20\n",
      "50000/50000 [==============================] - 3s 59us/step - loss: 1.5891 - accuracy: 0.4290 - val_loss: 1.5151 - val_accuracy: 0.4612\n",
      "Epoch 12/20\n",
      "50000/50000 [==============================] - 3s 59us/step - loss: 1.5815 - accuracy: 0.4343 - val_loss: 1.5239 - val_accuracy: 0.4577\n",
      "Epoch 13/20\n",
      "50000/50000 [==============================] - 3s 59us/step - loss: 1.5726 - accuracy: 0.4340 - val_loss: 1.5329 - val_accuracy: 0.4543\n",
      "Epoch 14/20\n",
      "50000/50000 [==============================] - 3s 60us/step - loss: 1.5615 - accuracy: 0.4399 - val_loss: 1.4820 - val_accuracy: 0.4723\n",
      "Epoch 15/20\n",
      "50000/50000 [==============================] - 3s 59us/step - loss: 1.5552 - accuracy: 0.4428 - val_loss: 1.4855 - val_accuracy: 0.4717\n",
      "Epoch 16/20\n",
      "50000/50000 [==============================] - 3s 60us/step - loss: 1.5397 - accuracy: 0.4470 - val_loss: 1.4784 - val_accuracy: 0.4717\n",
      "Epoch 17/20\n",
      "50000/50000 [==============================] - 3s 59us/step - loss: 1.5362 - accuracy: 0.4505 - val_loss: 1.4781 - val_accuracy: 0.4746\n",
      "Epoch 18/20\n",
      "50000/50000 [==============================] - 3s 59us/step - loss: 1.5284 - accuracy: 0.4492 - val_loss: 1.5123 - val_accuracy: 0.4584\n",
      "Epoch 19/20\n",
      "50000/50000 [==============================] - 3s 60us/step - loss: 1.5165 - accuracy: 0.4535 - val_loss: 1.4481 - val_accuracy: 0.4886\n",
      "Epoch 20/20\n",
      "50000/50000 [==============================] - 3s 59us/step - loss: 1.5135 - accuracy: 0.4553 - val_loss: 1.4537 - val_accuracy: 0.4800\n"
     ]
    }
   ],
   "source": [
    "#results = {}\n",
    "\"\"\"Code Here\n",
    "撰寫你的訓練流程並將結果用 dictionary 紀錄\n",
    "\"\"\"\n",
    "model = build_mlp(input_shape=x_train.shape[1:], drp_ratio=Dropout_EXP)\n",
    "\n",
    "model.summary()\n",
    "optimizer = keras.optimizers.Adam(lr=LEARNING_RATE)\n",
    "model.compile(loss=\"categorical_crossentropy\", metrics=[\"accuracy\"], optimizer=optimizer)\n",
    "\n",
    "model.fit(x_train, y_train, \n",
    "          epochs=EPOCHS, \n",
    "          batch_size=BATCH_SIZE, \n",
    "          validation_data=(x_test, y_test), \n",
    "          shuffle=True)\n",
    "\n",
    "# Collect results\n",
    "train_loss = model.history.history[\"loss\"]\n",
    "valid_loss = model.history.history[\"val_loss\"]\n",
    "train_acc = model.history.history[\"accuracy\"]\n",
    "valid_acc = model.history.history[\"val_accuracy\"]"
   ]
  },
  {
   "cell_type": "code",
   "execution_count": 12,
   "metadata": {},
   "outputs": [
    {
     "data": {
      "image/png": "[encoded data removed]",
      "text/plain": [
       "<Figure size 432x288 with 1 Axes>"
      ]
     },
     "metadata": {
      "needs_background": "light"
     },
     "output_type": "display_data"
    },
    {
     "data": {
      "image/png": "[encoded data removed]",
      "text/plain": [
       "<Figure size 432x288 with 1 Axes>"
      ]
     },
     "metadata": {
      "needs_background": "light"
     },
     "output_type": "display_data"
    }
   ],
   "source": [
    "import matplotlib.pyplot as plt\n",
    "%matplotlib inline\n",
    "\"\"\"Code Here\n",
    "將結果繪出\n",
    "\"\"\"\n",
    "plt.plot(range(len(train_loss)), train_loss, label=\"train loss\")\n",
    "plt.plot(range(len(valid_loss)), valid_loss, label=\"valid loss\")\n",
    "plt.legend()\n",
    "plt.title(\"Loss\")\n",
    "plt.show()\n",
    "\n",
    "plt.plot(range(len(train_acc)), train_acc, label=\"train accuracy\")\n",
    "plt.plot(range(len(valid_acc)), valid_acc, label=\"valid accuracy\")\n",
    "plt.legend()\n",
    "plt.title(\"Accuracy\")\n",
    "plt.show()"
   ]
  },
  {
   "cell_type": "code",
   "execution_count": null,
   "metadata": {},
   "outputs": [],
   "source": []
  }
 ],
 "metadata": {
  "kernelspec": {
   "display_name": "Python 3",
   "language": "python",
   "name": "python3"
  },
  "language_info": {
   "codemirror_mode": {
    "name": "ipython",
    "version": 3
   },
   "file_extension": ".py",
   "mimetype": "text/x-python",
   "name": "python",
   "nbconvert_exporter": "python",
   "pygments_lexer": "ipython3",
   "version": "3.5.2"
  }
 },
 "nbformat": 4,
 "nbformat_minor": 2
}
