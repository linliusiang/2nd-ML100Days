{
 "cells": [
  {
   "cell_type": "markdown",
   "metadata": {},
   "source": [
    "## Work\n",
    "### 請結合前面的知識與程式碼，比較不同的 regularization 的組合對訓練的結果與影響：如 dropout, regularizers, batch-normalization 等"
   ]
  },
  {
   "cell_type": "code",
   "execution_count": 5,
   "metadata": {},
   "outputs": [],
   "source": [
    "import os\n",
    "import keras\n",
    "import itertools\n",
    "# Disable GPU\n",
    "os.environ[\"CUDA_VISIBLE_DEVICES\"] = \"0\""
   ]
  },
  {
   "cell_type": "code",
   "execution_count": 6,
   "metadata": {},
   "outputs": [],
   "source": [
    "train, test = keras.datasets.cifar10.load_data()"
   ]
  },
  {
   "cell_type": "code",
   "execution_count": 7,
   "metadata": {},
   "outputs": [],
   "source": [
    "## 資料前處理\n",
    "def preproc_x(x, flatten=True):\n",
    "    x = x / 255.\n",
    "    if flatten:\n",
    "        x = x.reshape((len(x), -1))\n",
    "    return x\n",
    "\n",
    "def preproc_y(y, num_classes=10):\n",
    "    if y.shape[-1] == 1:\n",
    "        y = keras.utils.to_categorical(y, num_classes)\n",
    "    return y    "
   ]
  },
  {
   "cell_type": "code",
   "execution_count": 8,
   "metadata": {},
   "outputs": [],
   "source": [
    "x_train, y_train = train\n",
    "x_test, y_test = test\n",
    "\n",
    "# Preproc the inputs\n",
    "x_train = preproc_x(x_train)\n",
    "x_test = preproc_x(x_test)\n",
    "\n",
    "# Preprc the outputs\n",
    "y_train = preproc_y(y_train)\n",
    "y_test = preproc_y(y_test)"
   ]
  },
  {
   "cell_type": "code",
   "execution_count": 9,
   "metadata": {},
   "outputs": [],
   "source": [
    "from keras.regularizers import l1, l2, l1_l2\n",
    "from keras.layers import Dropout\n",
    "from keras.layers import BatchNormalization\n",
    "\n",
    "\n",
    "def build_mlp(input_shape, output_units=10, num_neurons=[512, 256, 128], drp_ratio=0.2, l2_ratio=1e-4):\n",
    "    input_layer = keras.layers.Input(input_shape)\n",
    "    \n",
    "    \n",
    "    for i, n_units in enumerate(num_neurons):\n",
    "        if i == 0:\n",
    "            \n",
    "            # 使用 L2 正規化\n",
    "            x = keras.layers.Dense(units=n_units, \n",
    "                                   activation=\"relu\", \n",
    "                                   name=\"hidden_layer\"+str(i+1),\n",
    "                                   kernel_regularizer=l2(l2_ratio))(input_layer)\n",
    "            # 加一層 Dropout\n",
    "            x = Dropout(drp_ratio)(x)\n",
    "        else:\n",
    "            # 加一層 BatchNormalization\n",
    "            x = BatchNormalization()(x)\n",
    "            x = keras.layers.Dense(units=n_units, \n",
    "                                   activation=\"relu\", \n",
    "                                   name=\"hidden_layer\"+str(i+1),\n",
    "                                   kernel_regularizer=l2(l2_ratio))(x)\n",
    "\n",
    "    out = keras.layers.Dense(units=output_units, activation=\"softmax\", name=\"output\")(x)\n",
    "    \n",
    "    model = keras.models.Model(inputs=[input_layer], outputs=[out])\n",
    "    return model"
   ]
  },
  {
   "cell_type": "code",
   "execution_count": 10,
   "metadata": {},
   "outputs": [],
   "source": [
    "\"\"\"Code Here\n",
    "設定超參數\n",
    "\"\"\"\n",
    "LEARNING_RATE = 0.01\n",
    "EPOCHS = 20\n",
    "BATCH_SIZE = 128\n",
    "MOMENTUM = 0.95\n",
    "Dropout_EXP = 0.2\n",
    "L2_EXP = 0.0001"
   ]
  },
  {
   "cell_type": "code",
   "execution_count": 11,
   "metadata": {
    "scrolled": true
   },
   "outputs": [
    {
     "name": "stdout",
     "output_type": "stream",
     "text": [
      "Model: \"model_1\"\n",
      "_________________________________________________________________\n",
      "Layer (type)                 Output Shape              Param #   \n",
      "=================================================================\n",
      "input_1 (InputLayer)         (None, 3072)              0         \n",
      "_________________________________________________________________\n",
      "hidden_layer1 (Dense)        (None, 512)               1573376   \n",
      "_________________________________________________________________\n",
      "dropout_1 (Dropout)          (None, 512)               0         \n",
      "_________________________________________________________________\n",
      "batch_normalization_1 (Batch (None, 512)               2048      \n",
      "_________________________________________________________________\n",
      "hidden_layer2 (Dense)        (None, 256)               131328    \n",
      "_________________________________________________________________\n",
      "batch_normalization_2 (Batch (None, 256)               1024      \n",
      "_________________________________________________________________\n",
      "hidden_layer3 (Dense)        (None, 128)               32896     \n",
      "_________________________________________________________________\n",
      "output (Dense)               (None, 10)                1290      \n",
      "=================================================================\n",
      "Total params: 1,741,962\n",
      "Trainable params: 1,740,426\n",
      "Non-trainable params: 1,536\n",
      "_________________________________________________________________\n",
      "Train on 50000 samples, validate on 10000 samples\n",
      "Epoch 1/20\n",
      "50000/50000 [==============================] - 7s 146us/step - loss: 2.3406 - accuracy: 0.3039 - val_loss: 2.8252 - val_accuracy: 0.1212\n",
      "Epoch 2/20\n",
      "50000/50000 [==============================] - 6s 116us/step - loss: 2.1455 - accuracy: 0.3225 - val_loss: 2.2511 - val_accuracy: 0.2527\n",
      "Epoch 3/20\n",
      "50000/50000 [==============================] - 6s 117us/step - loss: 2.1128 - accuracy: 0.3129 - val_loss: 2.1917 - val_accuracy: 0.2811\n",
      "Epoch 4/20\n",
      "50000/50000 [==============================] - 6s 118us/step - loss: 2.0393 - accuracy: 0.3207 - val_loss: 2.4571 - val_accuracy: 0.1940\n",
      "Epoch 5/20\n",
      "50000/50000 [==============================] - 6s 118us/step - loss: 1.9908 - accuracy: 0.3306 - val_loss: 1.9424 - val_accuracy: 0.3220\n",
      "Epoch 6/20\n",
      "50000/50000 [==============================] - 6s 119us/step - loss: 1.9287 - accuracy: 0.3382 - val_loss: 1.9097 - val_accuracy: 0.3296\n",
      "Epoch 7/20\n",
      "50000/50000 [==============================] - 6s 118us/step - loss: 1.9111 - accuracy: 0.3348 - val_loss: 1.9635 - val_accuracy: 0.3039\n",
      "Epoch 8/20\n",
      "50000/50000 [==============================] - 6s 120us/step - loss: 1.8930 - accuracy: 0.3462 - val_loss: 2.0491 - val_accuracy: 0.2874\n",
      "Epoch 9/20\n",
      "50000/50000 [==============================] - 6s 118us/step - loss: 1.8824 - accuracy: 0.3475 - val_loss: 1.9874 - val_accuracy: 0.2982\n",
      "Epoch 10/20\n",
      "50000/50000 [==============================] - 6s 118us/step - loss: 1.8705 - accuracy: 0.3511 - val_loss: 2.1158 - val_accuracy: 0.2670\n",
      "Epoch 11/20\n",
      "50000/50000 [==============================] - 6s 119us/step - loss: 1.8617 - accuracy: 0.3540 - val_loss: 1.8826 - val_accuracy: 0.3584\n",
      "Epoch 12/20\n",
      "50000/50000 [==============================] - 6s 118us/step - loss: 1.8974 - accuracy: 0.3361 - val_loss: 2.0285 - val_accuracy: 0.2863\n",
      "Epoch 13/20\n",
      "50000/50000 [==============================] - 6s 118us/step - loss: 1.8922 - accuracy: 0.3383 - val_loss: 1.9870 - val_accuracy: 0.3086\n",
      "Epoch 14/20\n",
      "50000/50000 [==============================] - 6s 119us/step - loss: 1.8749 - accuracy: 0.3413 - val_loss: 3.1665 - val_accuracy: 0.1475\n",
      "Epoch 15/20\n",
      "50000/50000 [==============================] - 6s 118us/step - loss: 1.8795 - accuracy: 0.3363 - val_loss: 2.0766 - val_accuracy: 0.2629\n",
      "Epoch 16/20\n",
      "50000/50000 [==============================] - 6s 118us/step - loss: 1.8640 - accuracy: 0.3433 - val_loss: 2.1085 - val_accuracy: 0.2757\n",
      "Epoch 17/20\n",
      "50000/50000 [==============================] - 6s 119us/step - loss: 1.8707 - accuracy: 0.3405 - val_loss: 1.9317 - val_accuracy: 0.3160\n",
      "Epoch 18/20\n",
      "50000/50000 [==============================] - 6s 118us/step - loss: 1.8716 - accuracy: 0.3411 - val_loss: 2.1148 - val_accuracy: 0.2522\n",
      "Epoch 19/20\n",
      "50000/50000 [==============================] - 6s 118us/step - loss: 1.8633 - accuracy: 0.3443 - val_loss: 2.1132 - val_accuracy: 0.2565\n",
      "Epoch 20/20\n",
      "50000/50000 [==============================] - 6s 118us/step - loss: 1.8506 - accuracy: 0.3464 - val_loss: 1.9892 - val_accuracy: 0.3043\n"
     ]
    }
   ],
   "source": [
    "model = build_mlp(input_shape=x_train.shape[1:], drp_ratio=Dropout_EXP, l2_ratio=L2_EXP)\n",
    "model.summary()\n",
    "\n",
    "optimizer = keras.optimizers.Adam(lr=LEARNING_RATE)\n",
    "model.compile(loss=\"categorical_crossentropy\", metrics=[\"accuracy\"], optimizer=optimizer)\n",
    "\n",
    "model.fit(x_train, y_train, \n",
    "          epochs=EPOCHS, \n",
    "          batch_size=BATCH_SIZE, \n",
    "          validation_data=(x_test, y_test), \n",
    "          shuffle=True)\n",
    "\n",
    "# Collect results\n",
    "train_loss = model.history.history[\"loss\"]\n",
    "valid_loss = model.history.history[\"val_loss\"]\n",
    "train_acc = model.history.history[\"accuracy\"]\n",
    "valid_acc = model.history.history[\"val_accuracy\"]"
   ]
  },
  {
   "cell_type": "code",
   "execution_count": 12,
   "metadata": {},
   "outputs": [
    {
     "data": {
      "image/png": "[encoded data removed]",
      "text/plain": [
       "<Figure size 432x288 with 1 Axes>"
      ]
     },
     "metadata": {
      "needs_background": "light"
     },
     "output_type": "display_data"
    },
    {
     "data": {
      "image/png": "[encoded data removed]",
      "text/plain": [
       "<Figure size 432x288 with 1 Axes>"
      ]
     },
     "metadata": {
      "needs_background": "light"
     },
     "output_type": "display_data"
    }
   ],
   "source": [
    "import matplotlib.pyplot as plt\n",
    "%matplotlib inline\n",
    "\n",
    "plt.plot(range(len(train_loss)), train_loss, label=\"train loss\")\n",
    "plt.plot(range(len(valid_loss)), valid_loss, label=\"valid loss\")\n",
    "plt.legend()\n",
    "plt.title(\"Loss\")\n",
    "plt.show()\n",
    "\n",
    "plt.plot(range(len(train_acc)), train_acc, label=\"train accuracy\")\n",
    "plt.plot(range(len(valid_acc)), valid_acc, label=\"valid accuracy\")\n",
    "plt.legend()\n",
    "plt.title(\"Accuracy\")\n",
    "plt.show()"
   ]
  },
  {
   "cell_type": "code",
   "execution_count": null,
   "metadata": {},
   "outputs": [],
   "source": []
  }
 ],
 "metadata": {
  "kernelspec": {
   "display_name": "Python 3",
   "language": "python",
   "name": "python3"
  },
  "language_info": {
   "codemirror_mode": {
    "name": "ipython",
    "version": 3
   },
   "file_extension": ".py",
   "mimetype": "text/x-python",
   "name": "python",
   "nbconvert_exporter": "python",
   "pygments_lexer": "ipython3",
   "version": "3.5.2"
  }
 },
 "nbformat": 4,
 "nbformat_minor": 2
}
