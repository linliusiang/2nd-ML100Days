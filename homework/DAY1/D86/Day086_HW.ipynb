{
 "cells": [
  {
   "cell_type": "markdown",
   "metadata": {},
   "source": [
    "## Work\n",
    "1. 試比較 save_best_only 與否的差異\n",
    "2. 請僅存入將 save_weights_only 設定為 True, 並嘗試 reset ipynb 並將模型與權重重新建回並預測 x_test"
   ]
  },
  {
   "cell_type": "code",
   "execution_count": 5,
   "metadata": {},
   "outputs": [],
   "source": [
    "import os\n",
    "import keras\n",
    "\n",
    "# Disable GPU\n",
    "os.environ[\"CUDA_VISIBLE_DEVICES\"] = \"0\""
   ]
  },
  {
   "cell_type": "code",
   "execution_count": 6,
   "metadata": {},
   "outputs": [],
   "source": [
    "train, test = keras.datasets.cifar10.load_data()"
   ]
  },
  {
   "cell_type": "code",
   "execution_count": 7,
   "metadata": {},
   "outputs": [],
   "source": [
    "## 資料前處理\n",
    "def preproc_x(x, flatten=True):\n",
    "    x = x / 255.\n",
    "    if flatten:\n",
    "        x = x.reshape((len(x), -1))\n",
    "    return x\n",
    "\n",
    "def preproc_y(y, num_classes=10):\n",
    "    if y.shape[-1] == 1:\n",
    "        y = keras.utils.to_categorical(y, num_classes)\n",
    "    return y    "
   ]
  },
  {
   "cell_type": "code",
   "execution_count": 8,
   "metadata": {},
   "outputs": [],
   "source": [
    "x_train, y_train = train\n",
    "x_test, y_test = test\n",
    "\n",
    "# Preproc the inputs\n",
    "x_train = preproc_x(x_train)\n",
    "x_test = preproc_x(x_test)\n",
    "\n",
    "# Preprc the outputs\n",
    "y_train = preproc_y(y_train)\n",
    "y_test = preproc_y(y_test)"
   ]
  },
  {
   "cell_type": "code",
   "execution_count": 9,
   "metadata": {},
   "outputs": [],
   "source": [
    "\n",
    "from keras.layers import BatchNormalization\n",
    "\n",
    "\"\"\"\n",
    "建立神經網路\n",
    "\"\"\"\n",
    "def build_mlp(input_shape, output_units=10, num_neurons=[512, 256, 128]):\n",
    "    input_layer = keras.layers.Input(input_shape)\n",
    "    \n",
    "    for i, n_units in enumerate(num_neurons):\n",
    "        if i == 0:\n",
    "            x = keras.layers.Dense(units=n_units, \n",
    "                                   activation=\"relu\", \n",
    "                                   name=\"hidden_layer\"+str(i+1))(input_layer)\n",
    "            x = BatchNormalization()(x)\n",
    "        else:\n",
    "            x = keras.layers.Dense(units=n_units, \n",
    "                                   activation=\"relu\", \n",
    "                                   name=\"hidden_layer\"+str(i+1))(x)\n",
    "            x = BatchNormalization()(x)\n",
    "    \n",
    "    out = keras.layers.Dense(units=output_units, activation=\"softmax\", name=\"output\")(x)\n",
    "    \n",
    "    model = keras.models.Model(inputs=[input_layer], outputs=[out])\n",
    "    return model"
   ]
  },
  {
   "cell_type": "code",
   "execution_count": 10,
   "metadata": {},
   "outputs": [],
   "source": [
    "\"\"\"Code Here\n",
    "設定超參數\n",
    "\"\"\"\n",
    "LEARNING_RATE = 1e-3\n",
    "EPOCHS = 50\n",
    "BATCH_SIZE = 1024\n",
    "MOMENTUM = 0.95"
   ]
  },
  {
   "cell_type": "code",
   "execution_count": 11,
   "metadata": {},
   "outputs": [
    {
     "name": "stdout",
     "output_type": "stream",
     "text": [
      "Model: \"model_1\"\n",
      "_________________________________________________________________\n",
      "Layer (type)                 Output Shape              Param #   \n",
      "=================================================================\n",
      "input_1 (InputLayer)         (None, 3072)              0         \n",
      "_________________________________________________________________\n",
      "hidden_layer1 (Dense)        (None, 512)               1573376   \n",
      "_________________________________________________________________\n",
      "batch_normalization_1 (Batch (None, 512)               2048      \n",
      "_________________________________________________________________\n",
      "hidden_layer2 (Dense)        (None, 256)               131328    \n",
      "_________________________________________________________________\n",
      "batch_normalization_2 (Batch (None, 256)               1024      \n",
      "_________________________________________________________________\n",
      "hidden_layer3 (Dense)        (None, 128)               32896     \n",
      "_________________________________________________________________\n",
      "batch_normalization_3 (Batch (None, 128)               512       \n",
      "_________________________________________________________________\n",
      "output (Dense)               (None, 10)                1290      \n",
      "=================================================================\n",
      "Total params: 1,742,474\n",
      "Trainable params: 1,740,682\n",
      "Non-trainable params: 1,792\n",
      "_________________________________________________________________\n",
      "Train on 50000 samples, validate on 10000 samples\n",
      "Epoch 1/50\n",
      "50000/50000 [==============================] - 3s 57us/step - loss: 2.2345 - accuracy: 0.2667 - val_loss: 2.1250 - val_accuracy: 0.1842\n",
      "Epoch 2/50\n",
      "50000/50000 [==============================] - 1s 29us/step - loss: 1.7590 - accuracy: 0.3896 - val_loss: 1.9748 - val_accuracy: 0.2731\n",
      "Epoch 3/50\n",
      "50000/50000 [==============================] - 1s 29us/step - loss: 1.6319 - accuracy: 0.4294 - val_loss: 1.8324 - val_accuracy: 0.3555\n",
      "Epoch 4/50\n",
      "50000/50000 [==============================] - 1s 30us/step - loss: 1.5582 - accuracy: 0.4543 - val_loss: 1.7351 - val_accuracy: 0.3946\n",
      "Epoch 5/50\n",
      "50000/50000 [==============================] - 1s 30us/step - loss: 1.5022 - accuracy: 0.4740 - val_loss: 1.6518 - val_accuracy: 0.4230\n",
      "Epoch 6/50\n",
      "50000/50000 [==============================] - 1s 30us/step - loss: 1.4556 - accuracy: 0.4922 - val_loss: 1.6358 - val_accuracy: 0.4205\n",
      "Epoch 7/50\n",
      "50000/50000 [==============================] - 1s 29us/step - loss: 1.4136 - accuracy: 0.5063 - val_loss: 1.5561 - val_accuracy: 0.4484\n",
      "Epoch 8/50\n",
      "50000/50000 [==============================] - 1s 30us/step - loss: 1.3756 - accuracy: 0.5206 - val_loss: 1.5441 - val_accuracy: 0.4513\n",
      "Epoch 9/50\n",
      "50000/50000 [==============================] - 1s 30us/step - loss: 1.3437 - accuracy: 0.5317 - val_loss: 1.5240 - val_accuracy: 0.4615\n",
      "Epoch 10/50\n",
      "50000/50000 [==============================] - 2s 30us/step - loss: 1.3124 - accuracy: 0.5434 - val_loss: 1.4989 - val_accuracy: 0.4697\n",
      "Epoch 11/50\n",
      "50000/50000 [==============================] - 2s 31us/step - loss: 1.2836 - accuracy: 0.5545 - val_loss: 1.5153 - val_accuracy: 0.4660\n",
      "Epoch 12/50\n",
      "50000/50000 [==============================] - 2s 31us/step - loss: 1.2552 - accuracy: 0.5658 - val_loss: 1.4933 - val_accuracy: 0.4754\n",
      "Epoch 13/50\n",
      "50000/50000 [==============================] - 2s 31us/step - loss: 1.2291 - accuracy: 0.5757 - val_loss: 1.4758 - val_accuracy: 0.4797\n",
      "Epoch 14/50\n",
      "50000/50000 [==============================] - 2s 31us/step - loss: 1.2025 - accuracy: 0.5857 - val_loss: 1.4686 - val_accuracy: 0.4822\n",
      "Epoch 15/50\n",
      "50000/50000 [==============================] - 2s 31us/step - loss: 1.1779 - accuracy: 0.5962 - val_loss: 1.4798 - val_accuracy: 0.4809\n",
      "Epoch 16/50\n",
      "50000/50000 [==============================] - 2s 31us/step - loss: 1.1547 - accuracy: 0.6028 - val_loss: 1.4745 - val_accuracy: 0.4830\n",
      "Epoch 17/50\n",
      "50000/50000 [==============================] - 2s 31us/step - loss: 1.1326 - accuracy: 0.6109 - val_loss: 1.4645 - val_accuracy: 0.4874\n",
      "Epoch 18/50\n",
      "50000/50000 [==============================] - 2s 31us/step - loss: 1.1089 - accuracy: 0.6199 - val_loss: 1.4650 - val_accuracy: 0.4862\n",
      "Epoch 19/50\n",
      "50000/50000 [==============================] - 2s 31us/step - loss: 1.0849 - accuracy: 0.6303 - val_loss: 1.4609 - val_accuracy: 0.4851\n",
      "Epoch 20/50\n",
      "50000/50000 [==============================] - 2s 31us/step - loss: 1.0635 - accuracy: 0.6379 - val_loss: 1.4610 - val_accuracy: 0.4875\n",
      "Epoch 21/50\n",
      "50000/50000 [==============================] - 2s 31us/step - loss: 1.0398 - accuracy: 0.6479 - val_loss: 1.4664 - val_accuracy: 0.4900\n",
      "Epoch 22/50\n",
      "50000/50000 [==============================] - 2s 31us/step - loss: 1.0199 - accuracy: 0.6536 - val_loss: 1.4614 - val_accuracy: 0.4902\n",
      "Epoch 23/50\n",
      "50000/50000 [==============================] - 2s 31us/step - loss: 1.0003 - accuracy: 0.6628 - val_loss: 1.4787 - val_accuracy: 0.4882\n",
      "Epoch 24/50\n",
      "50000/50000 [==============================] - 2s 31us/step - loss: 0.9777 - accuracy: 0.6695 - val_loss: 1.4636 - val_accuracy: 0.4930\n",
      "Epoch 25/50\n",
      "50000/50000 [==============================] - 2s 31us/step - loss: 0.9577 - accuracy: 0.6787 - val_loss: 1.4631 - val_accuracy: 0.4969\n",
      "Epoch 26/50\n",
      "50000/50000 [==============================] - 2s 31us/step - loss: 0.9386 - accuracy: 0.6857 - val_loss: 1.4633 - val_accuracy: 0.4928\n",
      "Epoch 27/50\n",
      "50000/50000 [==============================] - 2s 31us/step - loss: 0.9185 - accuracy: 0.6952 - val_loss: 1.4826 - val_accuracy: 0.4933\n",
      "Epoch 28/50\n",
      "50000/50000 [==============================] - 2s 31us/step - loss: 0.8977 - accuracy: 0.7027 - val_loss: 1.4779 - val_accuracy: 0.4898\n",
      "Epoch 29/50\n",
      "50000/50000 [==============================] - 2s 31us/step - loss: 0.8767 - accuracy: 0.7117 - val_loss: 1.4771 - val_accuracy: 0.4938\n",
      "Epoch 30/50\n",
      "50000/50000 [==============================] - 2s 31us/step - loss: 0.8591 - accuracy: 0.7174 - val_loss: 1.4820 - val_accuracy: 0.4900\n",
      "Epoch 31/50\n",
      "50000/50000 [==============================] - 2s 31us/step - loss: 0.8384 - accuracy: 0.7260 - val_loss: 1.4962 - val_accuracy: 0.4919\n",
      "Epoch 32/50\n",
      "50000/50000 [==============================] - 2s 31us/step - loss: 0.8188 - accuracy: 0.7342 - val_loss: 1.4944 - val_accuracy: 0.4891\n",
      "Epoch 33/50\n",
      "50000/50000 [==============================] - 2s 31us/step - loss: 0.8019 - accuracy: 0.7402 - val_loss: 1.5209 - val_accuracy: 0.4903\n",
      "Epoch 34/50\n",
      "50000/50000 [==============================] - 2s 31us/step - loss: 0.7823 - accuracy: 0.7476 - val_loss: 1.5148 - val_accuracy: 0.4874\n",
      "Epoch 35/50\n",
      "50000/50000 [==============================] - 2s 31us/step - loss: 0.7620 - accuracy: 0.7563 - val_loss: 1.5145 - val_accuracy: 0.4949\n",
      "Epoch 36/50\n",
      "50000/50000 [==============================] - 2s 31us/step - loss: 0.7442 - accuracy: 0.7619 - val_loss: 1.5366 - val_accuracy: 0.4890\n",
      "Epoch 37/50\n",
      "50000/50000 [==============================] - 2s 31us/step - loss: 0.7261 - accuracy: 0.7694 - val_loss: 1.5432 - val_accuracy: 0.4856\n",
      "Epoch 38/50\n",
      "50000/50000 [==============================] - 2s 31us/step - loss: 0.7064 - accuracy: 0.7783 - val_loss: 1.5451 - val_accuracy: 0.4866\n",
      "Epoch 39/50\n",
      "50000/50000 [==============================] - 2s 31us/step - loss: 0.6883 - accuracy: 0.7851 - val_loss: 1.5680 - val_accuracy: 0.4849\n",
      "Epoch 40/50\n",
      "50000/50000 [==============================] - 2s 31us/step - loss: 0.6698 - accuracy: 0.7928 - val_loss: 1.5581 - val_accuracy: 0.4846\n",
      "Epoch 41/50\n",
      "50000/50000 [==============================] - 2s 31us/step - loss: 0.6519 - accuracy: 0.7998 - val_loss: 1.5708 - val_accuracy: 0.4860\n",
      "Epoch 42/50\n",
      "50000/50000 [==============================] - 2s 31us/step - loss: 0.6354 - accuracy: 0.8075 - val_loss: 1.5784 - val_accuracy: 0.4911\n",
      "Epoch 43/50\n",
      "50000/50000 [==============================] - 2s 31us/step - loss: 0.6160 - accuracy: 0.8145 - val_loss: 1.6025 - val_accuracy: 0.4875\n",
      "Epoch 44/50\n",
      "50000/50000 [==============================] - 2s 31us/step - loss: 0.6006 - accuracy: 0.8220 - val_loss: 1.6023 - val_accuracy: 0.4853\n",
      "Epoch 45/50\n",
      "50000/50000 [==============================] - 2s 31us/step - loss: 0.5811 - accuracy: 0.8277 - val_loss: 1.6221 - val_accuracy: 0.4855\n",
      "Epoch 46/50\n"
     ]
    },
    {
     "name": "stdout",
     "output_type": "stream",
     "text": [
      "50000/50000 [==============================] - 2s 31us/step - loss: 0.5647 - accuracy: 0.8336 - val_loss: 1.6284 - val_accuracy: 0.4851\n",
      "Epoch 47/50\n",
      "50000/50000 [==============================] - 2s 31us/step - loss: 0.5492 - accuracy: 0.8398 - val_loss: 1.6479 - val_accuracy: 0.4892\n",
      "Epoch 48/50\n",
      "50000/50000 [==============================] - 2s 31us/step - loss: 0.5317 - accuracy: 0.8475 - val_loss: 1.6508 - val_accuracy: 0.4859\n",
      "Epoch 49/50\n",
      "50000/50000 [==============================] - 2s 30us/step - loss: 0.5154 - accuracy: 0.8529 - val_loss: 1.6766 - val_accuracy: 0.4829\n",
      "Epoch 50/50\n",
      "50000/50000 [==============================] - 2s 31us/step - loss: 0.4992 - accuracy: 0.8590 - val_loss: 1.6836 - val_accuracy: 0.4878\n",
      "10000/10000 [==============================] - 0s 41us/step\n",
      "正確率： 0.48510000109672546\n"
     ]
    }
   ],
   "source": [
    "\"\"\"\n",
    "載入 Callbacks, 並將 monitor 設定監控為 Validation Accuracy，且只存最佳參數時的模型\n",
    "\n",
    "\"\"\"\n",
    "from keras.callbacks import ModelCheckpoint\n",
    "\n",
    "model_ckpt = ModelCheckpoint(filepath=\"./tmp.h5\", \n",
    "                             monitor=\"val_loss\", \n",
    "                             save_best_only=True)\n",
    "\n",
    "model = build_mlp(input_shape=x_train.shape[1:])\n",
    "model.summary()\n",
    "optimizer = keras.optimizers.SGD(lr=LEARNING_RATE, nesterov=True, momentum=MOMENTUM)\n",
    "model.compile(loss=\"categorical_crossentropy\", metrics=[\"accuracy\"], optimizer=optimizer)\n",
    "\n",
    "model.fit(x_train, y_train, \n",
    "          epochs=EPOCHS, \n",
    "          batch_size=BATCH_SIZE, \n",
    "          validation_data=(x_test, y_test), \n",
    "          shuffle=True,\n",
    "          callbacks=[model_ckpt]\n",
    "         )\n",
    "\n",
    "# Collect results\n",
    "train_loss = model.history.history[\"loss\"]\n",
    "valid_loss = model.history.history[\"val_loss\"]\n",
    "train_acc = model.history.history[\"accuracy\"]\n",
    "valid_acc = model.history.history[\"val_accuracy\"]\n",
    "\n",
    "# Load back\n",
    "model = keras.models.load_model(\"./tmp.h5\")\n",
    "loss_loadback, acc_loadback = model.evaluate(x_test, y_test)\n",
    "print(\"正確率：\",acc_loadback)"
   ]
  },
  {
   "cell_type": "code",
   "execution_count": 12,
   "metadata": {
    "scrolled": true
   },
   "outputs": [
    {
     "data": {
      "image/png": "[encoded data removed]",
      "text/plain": [
       "<Figure size 432x288 with 1 Axes>"
      ]
     },
     "metadata": {
      "needs_background": "light"
     },
     "output_type": "display_data"
    },
    {
     "data": {
      "image/png": "[encoded data removed]",
      "text/plain": [
       "<Figure size 432x288 with 1 Axes>"
      ]
     },
     "metadata": {
      "needs_background": "light"
     },
     "output_type": "display_data"
    }
   ],
   "source": [
    "import matplotlib.pyplot as plt\n",
    "%matplotlib inline\n",
    "plt.plot(range(len(train_loss)), train_loss, label=\"train loss\")\n",
    "plt.plot(range(len(valid_loss)), valid_loss, label=\"valid loss\")\n",
    "plt.hlines(y=loss_loadback, xmin=0, xmax=len(train_loss), colors='r', linestyles='--')\n",
    "plt.legend()\n",
    "plt.title(\"Loss\")\n",
    "plt.show()\n",
    "\n",
    "plt.plot(range(len(train_acc)), train_acc, label=\"train accuracy\")\n",
    "plt.plot(range(len(valid_acc)), valid_acc, label=\"valid accuracy\")\n",
    "plt.hlines(y=acc_loadback, xmin=0, xmax=len(train_loss), colors='r', linestyles='--')\n",
    "plt.legend()\n",
    "plt.title(\"Accuracy\")\n",
    "plt.show()"
   ]
  },
  {
   "cell_type": "code",
   "execution_count": null,
   "metadata": {},
   "outputs": [],
   "source": []
  }
 ],
 "metadata": {
  "kernelspec": {
   "display_name": "Python 3",
   "language": "python",
   "name": "python3"
  },
  "language_info": {
   "codemirror_mode": {
    "name": "ipython",
    "version": 3
   },
   "file_extension": ".py",
   "mimetype": "text/x-python",
   "name": "python",
   "nbconvert_exporter": "python",
   "pygments_lexer": "ipython3",
   "version": "3.5.2"
  }
 },
 "nbformat": 4,
 "nbformat_minor": 2
}
